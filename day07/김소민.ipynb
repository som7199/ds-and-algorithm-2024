{
 "cells": [
  {
   "cell_type": "markdown",
   "metadata": {},
   "source": [
    "## 1번"
   ]
  },
  {
   "cell_type": "code",
   "execution_count": 1,
   "metadata": {},
   "outputs": [],
   "source": [
    "def checkStackFull():\n",
    "    global SIZE, stack, top\n",
    "    if top >= SIZE-1:\n",
    "        return True\n",
    "    else:\n",
    "        return False"
   ]
  },
  {
   "cell_type": "code",
   "execution_count": 2,
   "metadata": {},
   "outputs": [],
   "source": [
    "def checkStackEmpty():\n",
    "    global SIZE, stack, top\n",
    "    if top == -1:\n",
    "        return True\n",
    "    else:\n",
    "        return False"
   ]
  },
  {
   "cell_type": "code",
   "execution_count": 3,
   "metadata": {},
   "outputs": [],
   "source": [
    "def addData(data):\n",
    "    global SIZE, stack, top\n",
    "    if checkStackFull():\n",
    "        print('스택이 꽉 찼습니다.')\n",
    "        return\n",
    "    top += 1\n",
    "    stack[top] = data"
   ]
  },
  {
   "cell_type": "code",
   "execution_count": 4,
   "metadata": {},
   "outputs": [],
   "source": [
    "def popData():\n",
    "    global SIZE, stack, top\n",
    "    if checkStackEmpty():\n",
    "        print('스택이 비었습니다.')\n",
    "        return None\n",
    "    data = stack[top]\n",
    "    stack[top] = None\n",
    "    top -= 1\n",
    "    return data"
   ]
  },
  {
   "cell_type": "code",
   "execution_count": 5,
   "metadata": {},
   "outputs": [],
   "source": [
    "def checkData():\n",
    "    global SIZE, stack, top\n",
    "    if checkStackEmpty():\n",
    "        print('스택이 비었습니다.')\n",
    "        return None\n",
    "    return stack[top]"
   ]
  },
  {
   "cell_type": "code",
   "execution_count": 6,
   "metadata": {},
   "outputs": [
    {
     "name": "stdout",
     "output_type": "stream",
     "text": [
      "스택 상태 : ['amy', None, None, None, None]\n",
      "스택 상태 : ['amy', 'brain', None, None, None]\n",
      "스택 상태 : ['amy', 'brain', 'cat', None, None]\n",
      "스택 상태 : ['amy', 'brain', 'cat', 'data', None]\n",
      "스택 상태 : ['amy', 'brain', 'cat', 'data', 'eva']\n",
      "스택이 꽉 찼습니다.\n",
      "스택 상태 : ['amy', 'brain', 'cat', 'data', 'eva']\n",
      "추출된 데이터 : eva\n",
      "스택 상태 : ['amy', 'brain', 'cat', 'data', None]\n",
      "추출된 데이터 : data\n",
      "스택 상태 : ['amy', 'brain', 'cat', None, None]\n",
      "추출된 데이터 : cat\n",
      "스택 상태 : ['amy', 'brain', None, None, None]\n",
      "확인된 데이터 : brain\n",
      "스택 상태 : ['amy', 'brain', None, None, None]\n",
      "확인된 데이터 : brain\n",
      "스택 상태 : ['amy', 'brain', None, None, None]\n",
      "확인된 데이터 : brain\n",
      "스택 상태 : ['amy', 'brain', None, None, None]\n",
      "추출된 데이터 : brain\n",
      "스택 상태 : ['amy', None, None, None, None]\n",
      "확인된 데이터 : amy\n",
      "스택 상태 : ['amy', None, None, None, None]\n",
      "추출된 데이터 : amy\n",
      "스택 상태 : [None, None, None, None, None]\n",
      "스택이 비었습니다.\n",
      "추출된 데이터 : None\n",
      "스택 상태 : [None, None, None, None, None]\n",
      "스택이 비었습니다.\n",
      "추출된 데이터 : None\n",
      "스택 상태 : [None, None, None, None, None]\n",
      "프로그램 종료!\n"
     ]
    }
   ],
   "source": [
    "SIZE = int(input('스택 크기 입력 > '))\n",
    "stack = [None for _ in range(SIZE)]\n",
    "top = -1\n",
    "\n",
    "select = input('삽입(I) / 추출(E) / 확인(V) / 종료(X) 중 하나 선택 > ')\n",
    "\n",
    "while select.lower() != 'x':\n",
    "    if select.lower() == 'i':\n",
    "        data = input('입력할 데이터 > ')\n",
    "        addData(data)\n",
    "        print(f'스택 상태 : {stack}')\n",
    "    elif select.lower() == 'e':\n",
    "        data = popData()\n",
    "        print(f'추출된 데이터 : {data}')\n",
    "        print(f'스택 상태 : {stack}')\n",
    "    elif select.lower() == 'v':\n",
    "        data = checkData()\n",
    "        print(f'확인된 데이터 : {data}')\n",
    "        print(f'스택 상태 : {stack}')\n",
    "    elif select.lower() == 'x':\n",
    "        break\n",
    "    else:\n",
    "        print('잘못된 입력')\n",
    "    \n",
    "    select = input('삽입(I) / 추출(E) / 확인(V) / 종료(X) 중 하나 선택 > ')\n",
    "    \n",
    "print('프로그램 종료!')\n"
   ]
  },
  {
   "cell_type": "markdown",
   "metadata": {},
   "source": [
    "## 2번"
   ]
  },
  {
   "cell_type": "code",
   "execution_count": 55,
   "metadata": {},
   "outputs": [],
   "source": [
    "def isQueueFull():\n",
    "    global SIZE, queue, front, rear\n",
    "    if rear == SIZE-1:\n",
    "        return True\n",
    "    else:\n",
    "        return False"
   ]
  },
  {
   "cell_type": "code",
   "execution_count": 56,
   "metadata": {},
   "outputs": [],
   "source": [
    "def isQueueEmpty():\n",
    "    global SIZE, queue, front, rear\n",
    "    if front == rear:\n",
    "        return True\n",
    "    else:\n",
    "        return False"
   ]
  },
  {
   "cell_type": "code",
   "execution_count": 57,
   "metadata": {},
   "outputs": [],
   "source": [
    "def enQueue(data):\n",
    "    global SIZE, queue, front, rear\n",
    "    if isQueueFull():\n",
    "        print('대기줄이 꽉 찼습니다.')\n",
    "        return\n",
    "    rear += 1\n",
    "    queue[rear] = data"
   ]
  },
  {
   "cell_type": "code",
   "execution_count": 58,
   "metadata": {},
   "outputs": [],
   "source": [
    "def deQueue():\n",
    "    global SIZE, queue, front, rear\n",
    "    if isQueueEmpty():\n",
    "        print('대기줄이 비었습니다.')\n",
    "        return None\n",
    "    front += 1\n",
    "    data = queue[front]\n",
    "    queue[front] = None\n",
    "\n",
    "    for i in range(front+1, rear+1):\n",
    "        queue[i-1] = queue[i]\n",
    "        queue[i] = None\n",
    "    front = -1\n",
    "    rear -= 1\n",
    "\n",
    "    return data"
   ]
  },
  {
   "cell_type": "code",
   "execution_count": 59,
   "metadata": {},
   "outputs": [],
   "source": [
    "def peek():\n",
    "    global SIZE, queue, front, rear\n",
    "    if isQueueEmpty():\n",
    "        print('대기줄이 비었습니다.')\n",
    "        return None\n",
    "    return queue[front+1]"
   ]
  },
  {
   "cell_type": "code",
   "execution_count": 61,
   "metadata": {},
   "outputs": [
    {
     "name": "stdout",
     "output_type": "stream",
     "text": [
      "대기 줄 상태 : ['som', None, None, None, None]\n",
      "잘못된 입력\n",
      "대기 줄 상태 : ['som', 'jk', None, None, None]\n",
      "대기 줄 상태 : ['som', 'jk', 'jm', None, None]\n",
      "대기 줄 상태 : ['som', 'jk', 'jm', 'rm', None]\n",
      "대기 줄 상태 : ['som', 'jk', 'jm', 'rm', 'km']\n",
      "대기줄이 꽉 찼습니다.\n",
      "대기 줄 상태 : ['som', 'jk', 'jm', 'rm', 'km']\n",
      "som님 식당에 들어감\n",
      "대기 줄 상태 : ['jk', 'jm', 'rm', 'km', None]\n",
      "다음 번 손님은 jk님입니다.\n",
      "대기 줄 상태 : ['jk', 'jm', 'rm', 'km', None]\n",
      "jk님 식당에 들어감\n",
      "대기 줄 상태 : ['jm', 'rm', 'km', None, None]\n",
      "jm님 식당에 들어감\n",
      "대기 줄 상태 : ['rm', 'km', None, None, None]\n",
      "잘못된 입력\n",
      "다음 번 손님은 rm님입니다.\n",
      "대기 줄 상태 : ['rm', 'km', None, None, None]\n",
      "대기 줄 상태 : ['rm', 'km', 'ssss', None, None]\n",
      "다음 번 손님은 rm님입니다.\n",
      "대기 줄 상태 : ['rm', 'km', 'ssss', None, None]\n",
      "rm님 식당에 들어감\n",
      "대기 줄 상태 : ['km', 'ssss', None, None, None]\n",
      "잘못된 입력\n",
      "km님 식당에 들어감\n",
      "대기 줄 상태 : ['ssss', None, None, None, None]\n",
      "ssss님 식당에 들어감\n",
      "대기 줄 상태 : [None, None, None, None, None]\n",
      "잘못된 입력\n",
      "대기줄이 비었습니다.\n",
      "대기 줄 상태 : [None, None, None, None, None]\n",
      "대기줄이 비었습니다.\n",
      "대기 줄 상태 : [None, None, None, None, None]\n",
      "대기줄이 비었습니다.\n",
      "대기 줄 상태 : [None, None, None, None, None]\n",
      "대기줄이 비었습니다.\n",
      "대기 줄 상태 : [None, None, None, None, None]\n",
      "식당 영업 종료!\n"
     ]
    }
   ],
   "source": [
    "SIZE = 5\n",
    "queue = [None for _ in range(SIZE)]\n",
    "front = rear = -1\n",
    "\n",
    "select = input('대기(I) / 손님 입장(E) / 다음 손님 확인(V) / 종료(X) 중 하나 선택 > ')\n",
    "\n",
    "while select.lower() != 'x':\n",
    "    if select.lower() == 'i':\n",
    "        data = input('입력할 데이터 > ')\n",
    "        enQueue(data)\n",
    "        print(f'대기 줄 상태 : {queue}')\n",
    "\n",
    "    elif select.lower() == 'e':\n",
    "        data = deQueue()\n",
    "        if data == None:\n",
    "            print(f'대기 줄 상태 : {queue}')\n",
    "        else:\n",
    "            print(f'{data}님 식당에 들어감')\n",
    "            print(f'대기 줄 상태 : {queue}')\n",
    "\n",
    "    elif select.lower() == 'v':\n",
    "        data = peek()\n",
    "        if data == None:\n",
    "            print(f'대기 줄 상태 : {queue}')\n",
    "        else:\n",
    "            print(f'다음 번 손님은 {data}님입니다.')\n",
    "            print(f'대기 줄 상태 : {queue}')\n",
    "\n",
    "    elif select.lower() == 'x':\n",
    "        break\n",
    "    else:\n",
    "        print('잘못된 입력')\n",
    "    \n",
    "    select = input('삽입 대기(I) / 추출 손님 입장(E) / 확인 다음 손님 확인(V) / 종료(X) 중 하나 선택 > ')\n",
    "    \n",
    "print('식당 영업 종료!')\n"
   ]
  },
  {
   "cell_type": "markdown",
   "metadata": {},
   "source": [
    "## 3번"
   ]
  },
  {
   "cell_type": "code",
   "execution_count": 63,
   "metadata": {},
   "outputs": [],
   "source": [
    "import random"
   ]
  },
  {
   "cell_type": "code",
   "execution_count": 64,
   "metadata": {},
   "outputs": [],
   "source": [
    "class TreeNode():\n",
    "    def __init__(self):\n",
    "        self.left = None\n",
    "        self.data = None\n",
    "        self.right = None"
   ]
  },
  {
   "cell_type": "code",
   "execution_count": 70,
   "metadata": {},
   "outputs": [
    {
     "name": "stdout",
     "output_type": "stream",
     "text": [
      "오늘 판매된 물건(중복O) => ['코카콜라', '삼다수', '삼다수', '레쓰비캔커피', '코카콜라', '레쓰비캔커피', '츄파춥스', '코카콜라', '삼다수', '도시락', '레쓰비캔커피', '레쓰비캔커피', '레쓰비캔커피', '삼다수', '도시락', '바나나맛우유', '츄파춥스', '도시락', '삼다수', '츄파춥스']\n",
      "이진 탐색 트리 구성 완료!\n",
      "오늘 판매된 종류(중복X) -> 코카콜라 삼다수 레쓰비캔커피 도시락 바나나맛우유 츄파춥스 \n",
      "물품 추가 완료\n",
      "오늘 판매된 종류(중복X) -> 코카콜라 삼다수 레쓰비캔커피 도시락 바나나맛우유 츄파춥스 초콜릿 \n",
      "물품 추가 완료\n",
      "오늘 판매된 종류(중복X) -> 코카콜라 삼다수 레쓰비캔커피 도시락 바나나맛우유 츄파춥스 초콜릿 초코우유 \n",
      "물품 추가 완료\n",
      "오늘 판매된 종류(중복X) -> 코카콜라 삼다수 레쓰비캔커피 도시락 바나나맛우유 츄파춥스 초콜릿 초코우유 \n",
      "종료!\n"
     ]
    }
   ],
   "source": [
    "memory = []\n",
    "root = None\n",
    "dataAry = ['바나나맛우유', '레쓰비캔커피', '츄파춥스', '도시락', '삼다수', '코카콜라', '삼각김밥']\n",
    "sellAry = [random.choice(dataAry) for _ in range(20)]\n",
    "\n",
    "print(f'오늘 판매된 물건(중복O) => {sellAry}')\n",
    "\n",
    "node = TreeNode()\n",
    "node.data = sellAry[0]\n",
    "root = node\n",
    "memory.append(node)\n",
    "\n",
    "for name in sellAry[1:]:\n",
    "    node = TreeNode()\n",
    "    node.data = name\n",
    "\n",
    "    current = root\n",
    "    while True:\n",
    "        if name == current.data:\n",
    "            break\n",
    "        if name < current.data:\n",
    "            if current.left == None:\n",
    "                current.left = node\n",
    "                memory.append(node)\n",
    "                break\n",
    "            current = current.left\n",
    "        else:\n",
    "            if current.right == None:\n",
    "                current.right = node\n",
    "                memory.append(node)\n",
    "                break\n",
    "            current = current.right\n",
    "\n",
    "print('이진 탐색 트리 구성 완료!')\n",
    "\n",
    "def preorder(node):\n",
    "    if node == None:\n",
    "        return\n",
    "    print(node.data, end=' ')\n",
    "    preorder(node.left)\n",
    "    preorder(node.right)\n",
    "\n",
    "print('오늘 판매된 종류(중복X) ->', end=' ')\n",
    "preorder(root)\n",
    "\n",
    "while True:\n",
    "    new_item = input('추가할 물품을 입력하세요 > (x 입력 시 종료)')\n",
    "    if new_item.lower() == 'x':\n",
    "        break\n",
    "    else:\n",
    "        node = TreeNode()\n",
    "        node.data = new_item\n",
    "        current = root\n",
    "        while True:\n",
    "            if new_item == current.data:\n",
    "                break\n",
    "            if name < current.data:\n",
    "                if current.left == None:\n",
    "                    current.left = node\n",
    "                    memory.append(node)\n",
    "                    break\n",
    "                current = current.left\n",
    "            else:\n",
    "                if current.right == None:\n",
    "                    current.right = node\n",
    "                    memory.append(node)\n",
    "                    break\n",
    "                current = current.right\n",
    "    print('\\n물품 추가 완료')\n",
    "    print('오늘 판매된 종류(중복X) ->', end=' ')\n",
    "    preorder(root)\n",
    "print('\\n종료!')"
   ]
  }
 ],
 "metadata": {
  "kernelspec": {
   "display_name": "Python 3",
   "language": "python",
   "name": "python3"
  },
  "language_info": {
   "codemirror_mode": {
    "name": "ipython",
    "version": 3
   },
   "file_extension": ".py",
   "mimetype": "text/x-python",
   "name": "python",
   "nbconvert_exporter": "python",
   "pygments_lexer": "ipython3",
   "version": "3.12.1"
  }
 },
 "nbformat": 4,
 "nbformat_minor": 2
}
