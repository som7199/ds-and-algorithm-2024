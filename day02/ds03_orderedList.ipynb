{
 "cells": [
  {
   "cell_type": "code",
   "execution_count": 1,
   "metadata": {},
   "outputs": [],
   "source": [
    "# file : ds03_orderedList.ipynb\n",
    "# desc : 선형리스트"
   ]
  },
  {
   "cell_type": "markdown",
   "metadata": {},
   "source": [
    "## 자료구조와 알고리즘\n",
    "\n",
    "- 선형리스트\n",
    "\n",
    "### 1. 선형리스트 개념 및 내용\n",
    "- 파이썬의 리스트는 일반적인 프로그래밍(C언어 등)의 배열과 다름\n",
    "- 파이썬의 성능 문제로 배열과 리스트를 리스트 하나로 통합"
   ]
  },
  {
   "cell_type": "code",
   "execution_count": 2,
   "metadata": {},
   "outputs": [],
   "source": [
    "kakaotalk = [200, 150, 90, 30, 15]"
   ]
  },
  {
   "cell_type": "code",
   "execution_count": 3,
   "metadata": {},
   "outputs": [
    {
     "name": "stdout",
     "output_type": "stream",
     "text": [
      "140736519819928\n",
      "140736519818328\n",
      "140736519816408\n",
      "140736519814488\n",
      "140736519814008\n"
     ]
    }
   ],
   "source": [
    "# 메모리에 저장된 주소를 10진수 표현\n",
    "for i in range(len(kakaotalk)):\n",
    "    print(id(kakaotalk[i]))"
   ]
  },
  {
   "cell_type": "markdown",
   "metadata": {},
   "source": [
    "### 2. 선형리스트 구현\n",
    "- 파이썬에서 실제로 이렇게 복잡하게 할 필요없음\n",
    "- 배열(단순 선형리스트)를 이해하기 위해 만든 예제"
   ]
  },
  {
   "cell_type": "code",
   "execution_count": 6,
   "metadata": {},
   "outputs": [],
   "source": [
    "kakaotalk = []\n",
    "\n",
    "def add_data(friend):\n",
    "    kakaotalk.append(None)  # 배열에 빈자리 생성\n",
    "    size = len(kakaotalk)\n",
    "    kakaotalk[size-1] = friend"
   ]
  },
  {
   "cell_type": "code",
   "execution_count": 7,
   "metadata": {},
   "outputs": [],
   "source": [
    "add_data('다현')\n",
    "add_data('정연')\n",
    "add_data('쯔위')\n",
    "add_data('사나')\n",
    "add_data('지효')"
   ]
  },
  {
   "cell_type": "code",
   "execution_count": 8,
   "metadata": {},
   "outputs": [
    {
     "name": "stdout",
     "output_type": "stream",
     "text": [
      "['다현', '정연', '쯔위', '사나', '지효']\n"
     ]
    }
   ],
   "source": [
    "print(kakaotalk)"
   ]
  },
  {
   "cell_type": "code",
   "execution_count": 18,
   "metadata": {},
   "outputs": [],
   "source": [
    "# kakaotalk.insert(2, '솔라') 동일\n",
    "# 데이터 삽입 함수\n",
    "def insert_data(pos, friend):\n",
    "    if pos < 0 or pos > len(kakaotalk):\n",
    "        print('데이터 삽입 범위 초과')\n",
    "        return # 함수 탈출\n",
    "    \n",
    "    # 정상적인 처리 시작\n",
    "    kakaotalk.append(None)  # 빈 칸 추가\n",
    "    size = len(kakaotalk)   # 배열의 현재 크기\n",
    "\n",
    "    # 삽입 위치까지 데이터를 하나씩 뒤로 보냄\n",
    "    for i in range(size-1, pos, -1):  # 역순으로 맨 뒤에서부터\n",
    "        kakaotalk[i] = kakaotalk[i-1]\n",
    "        kakaotalk[i-1] = None\n",
    "\n",
    "    kakaotalk[pos] = friend"
   ]
  },
  {
   "cell_type": "code",
   "execution_count": 10,
   "metadata": {},
   "outputs": [
    {
     "name": "stdout",
     "output_type": "stream",
     "text": [
      "['다현', '정연', '솔라', '쯔위', '사나', '지효']\n"
     ]
    }
   ],
   "source": [
    "# 데이터 삽입\n",
    "insert_data(2, '솔라')\n",
    "print(kakaotalk)"
   ]
  },
  {
   "cell_type": "code",
   "execution_count": 11,
   "metadata": {},
   "outputs": [
    {
     "name": "stdout",
     "output_type": "stream",
     "text": [
      "['다현', '정연', '솔라', '쯔위', '사나', '지효', '문별']\n"
     ]
    }
   ],
   "source": [
    "insert_data(6, '문별')\n",
    "print(kakaotalk)"
   ]
  },
  {
   "cell_type": "code",
   "execution_count": 12,
   "metadata": {},
   "outputs": [
    {
     "name": "stdout",
     "output_type": "stream",
     "text": [
      "6\n",
      "5\n",
      "4\n",
      "3\n",
      "2\n"
     ]
    }
   ],
   "source": [
    "for i in range(6, 1, -1):   # 1 출력 안됨\n",
    "    print(i)"
   ]
  },
  {
   "cell_type": "code",
   "execution_count": 21,
   "metadata": {},
   "outputs": [],
   "source": [
    "## 데이터 삭제 함수\n",
    "def delete_data(pos):   # 데이터 삭제시는 위치값만\n",
    "    if pos < 0 or pos >= len(kakaotalk):    # 책 p103 > 오타, >= 로 변경해주기!\n",
    "        print('데이터 삭제 범위 초과')\n",
    "        return\n",
    "    \n",
    "    size = len(kakaotalk)\n",
    "    kakaotalk[pos] = None   # 데이터 삭제\n",
    "\n",
    "    for i in range(pos+1, size):\n",
    "        kakaotalk[i-1] = kakaotalk[i]\n",
    "        kakaotalk[i] = None\n",
    "\n",
    "    del(kakaotalk[size-1])  # 배열의 맨 마지막값 삭제"
   ]
  },
  {
   "cell_type": "code",
   "execution_count": 15,
   "metadata": {},
   "outputs": [
    {
     "name": "stdout",
     "output_type": "stream",
     "text": [
      "['다현', '정연', '솔라', '쯔위', '사나', '지효', '문별']\n"
     ]
    }
   ],
   "source": [
    "print(kakaotalk)"
   ]
  },
  {
   "cell_type": "code",
   "execution_count": 16,
   "metadata": {},
   "outputs": [],
   "source": [
    "delete_data(3)"
   ]
  },
  {
   "cell_type": "code",
   "execution_count": 17,
   "metadata": {},
   "outputs": [
    {
     "name": "stdout",
     "output_type": "stream",
     "text": [
      "['다현', '정연', '솔라', '사나', '지효', '문별']\n"
     ]
    }
   ],
   "source": [
    "print(kakaotalk)"
   ]
  },
  {
   "cell_type": "code",
   "execution_count": 22,
   "metadata": {},
   "outputs": [
    {
     "name": "stdout",
     "output_type": "stream",
     "text": [
      "데이터 삭제 범위 초과\n",
      "['다현', '정연', '솔라', '사나', '지효', '문별']\n"
     ]
    }
   ],
   "source": [
    "delete_data(6)\n",
    "print(kakaotalk)"
   ]
  }
 ],
 "metadata": {
  "kernelspec": {
   "display_name": "Python 3",
   "language": "python",
   "name": "python3"
  },
  "language_info": {
   "codemirror_mode": {
    "name": "ipython",
    "version": 3
   },
   "file_extension": ".py",
   "mimetype": "text/x-python",
   "name": "python",
   "nbconvert_exporter": "python",
   "pygments_lexer": "ipython3",
   "version": "3.12.1"
  }
 },
 "nbformat": 4,
 "nbformat_minor": 2
}
